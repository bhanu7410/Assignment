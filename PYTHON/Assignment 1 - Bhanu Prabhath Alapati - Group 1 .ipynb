{
 "cells": [
  {
   "cell_type": "markdown",
   "id": "3ab2a4a5",
   "metadata": {},
   "source": [
    "- Bhanu Prabhath Alapati-------------------------------------------------------------------------------10859"
   ]
  },
  {
   "cell_type": "markdown",
   "id": "76fc6aa3-6501-467f-9685-79bbe33d8eff",
   "metadata": {},
   "source": [
    "### 1. Create this dictionary:\n",
    "**{0: 0, 1: 1, 2: 8, 3: 27, 4: 64}\n",
    " using a dictionary comprehension.**"
   ]
  },
  {
   "cell_type": "code",
   "execution_count": 3,
   "id": "fd780e8b",
   "metadata": {},
   "outputs": [
    {
     "data": {
      "text/plain": [
       "{0: 0, 1: 1, 2: 8, 3: 27, 4: 64}"
      ]
     },
     "execution_count": 3,
     "metadata": {},
     "output_type": "execute_result"
    }
   ],
   "source": [
    "dic = {num : num*num*num for num in range(0,5)}\n",
    "dic"
   ]
  },
  {
   "cell_type": "markdown",
   "id": "4d499c8b-9a50-40c8-9e76-d5cc6bca4635",
   "metadata": {},
   "source": [
    "### 2. if the length of a word is even print \"even!\""
   ]
  },
  {
   "cell_type": "code",
   "execution_count": 10,
   "id": "2450d4df-7361-408e-a864-06143b116a5f",
   "metadata": {},
   "outputs": [],
   "source": [
    "st = 'Print every word in this sentence that has an even number of letters'"
   ]
  },
  {
   "cell_type": "code",
   "execution_count": 11,
   "id": "886813f2",
   "metadata": {},
   "outputs": [],
   "source": [
    "st = st.split()\n",
    "stk = []\n",
    "for i in st:\n",
    "    if len(i)%2==0:\n",
    "        stk.append(\"even\")\n",
    "    else :\n",
    "         stk.append(\"odd\")"
   ]
  },
  {
   "cell_type": "code",
   "execution_count": 12,
   "id": "36abf263",
   "metadata": {},
   "outputs": [
    {
     "data": {
      "text/plain": [
       "['odd',\n",
       " 'odd',\n",
       " 'even',\n",
       " 'even',\n",
       " 'even',\n",
       " 'even',\n",
       " 'even',\n",
       " 'odd',\n",
       " 'even',\n",
       " 'even',\n",
       " 'even',\n",
       " 'even',\n",
       " 'odd']"
      ]
     },
     "execution_count": 12,
     "metadata": {},
     "output_type": "execute_result"
    }
   ],
   "source": [
    "stk"
   ]
  },
  {
   "cell_type": "markdown",
   "id": "bc19e049-18b9-48c3-b321-40b108c4f95e",
   "metadata": {},
   "source": [
    "### 3. Generate Password: 17 characters , minimum 1 Uppercase, 1 lowercase, 1 digits and 2 minimun special characters"
   ]
  },
  {
   "cell_type": "code",
   "execution_count": 13,
   "id": "02bd27c1",
   "metadata": {},
   "outputs": [],
   "source": [
    "import string\n",
    "import random"
   ]
  },
  {
   "cell_type": "code",
   "execution_count": 14,
   "id": "c28fb548",
   "metadata": {},
   "outputs": [],
   "source": [
    "upper = string.ascii_uppercase\n",
    "lower = string.ascii_lowercase\n",
    "digit = string.digits\n",
    "speci = string.punctuation"
   ]
  },
  {
   "cell_type": "code",
   "execution_count": 16,
   "id": "afcd4162",
   "metadata": {},
   "outputs": [],
   "source": [
    "up_ch = random.choice(upper)\n",
    "lw_ch = random.choice(lower)\n",
    "di_ch = random.choice(digit)\n",
    "sp_ch = [random.choice(speci) for _ in range(2)]"
   ]
  },
  {
   "cell_type": "code",
   "execution_count": 17,
   "id": "cee18008",
   "metadata": {},
   "outputs": [],
   "source": [
    "all_ch = list(upper + lower + digit +speci)\n",
    "random.shuffle(all_ch)"
   ]
  },
  {
   "cell_type": "code",
   "execution_count": 19,
   "id": "f7865de8",
   "metadata": {},
   "outputs": [
    {
     "data": {
      "text/plain": [
       "'t?YUPO42%cgU0g7Y~X'"
      ]
     },
     "execution_count": 19,
     "metadata": {},
     "output_type": "execute_result"
    }
   ],
   "source": [
    "other_ch = [random.choice(all_ch) for _ in range(13)]\n",
    "password = [up_ch,lw_ch,di_ch]+sp_ch +other_ch\n",
    "random.shuffle(password)\n",
    "password = ''.join(password)\n",
    "password"
   ]
  },
  {
   "cell_type": "markdown",
   "id": "48cca1de-e507-4920-9caf-0b58e1d27f42",
   "metadata": {},
   "source": [
    "### 4. you are given a list which is [6, 15, 5, 3, 5, 14, 3, 202, 34, 235, 555, 6]. You have to sort it such that the seventh element is greatest of all, second element is greater than last element and second last element is not greater than sum of 8 and sixth element"
   ]
  },
  {
   "cell_type": "code",
   "execution_count": 37,
   "id": "82382476",
   "metadata": {},
   "outputs": [
    {
     "name": "stdout",
     "output_type": "stream",
     "text": [
      "[6, 15, 5, 3, 5, 14, 555, 202, 34, 235, 3, 6]\n",
      "All the conditions are satisfied!\n"
     ]
    }
   ],
   "source": [
    "nums =  [6, 15, 5, 3, 5, 14, 3, 202, 34, 235, 555, 6]\n",
    "\n",
    "maximum = max(nums)\n",
    "max_index = nums.index(maximum)\n",
    "nums[6], nums[max_index] = nums[max_index], nums[6]\n",
    "\n",
    "last = len(nums) - 1\n",
    "if nums[1] < nums[last]:\n",
    "    nums[1], nums[last] = nums[last], nums[1]\n",
    "\n",
    "sec_last = last - 1\n",
    "minimum = min(nums)\n",
    "min_index = nums.index(minimum)\n",
    "nums[sec_last], nums[min_index] = nums[min_index], nums[sec_last]\n",
    "\n",
    "print(nums)\n",
    "print(\"All the conditions are satisfied!\")"
   ]
  },
  {
   "cell_type": "markdown",
   "id": "4cc065eb-e5c5-40ff-9d82-2b6f8f2f43a6",
   "metadata": {},
   "source": [
    "### 5. Write a program that prints the integers from 1 to 100. But for multiples of three print \"Fizz\" instead of the number, and for the multiples of five print \"Buzz\". For numbers which are multiples of both three and five print \"FizzBuzz\"."
   ]
  },
  {
   "cell_type": "code",
   "execution_count": 20,
   "id": "4cca2d64",
   "metadata": {},
   "outputs": [
    {
     "name": "stdout",
     "output_type": "stream",
     "text": [
      "1\n",
      "2\n",
      "Fizz\n",
      "4\n",
      "Buzz\n",
      "Fizz\n",
      "7\n",
      "8\n",
      "Fizz\n",
      "Buzz\n",
      "11\n",
      "Fizz\n",
      "13\n",
      "14\n",
      "FizzBuzz\n",
      "16\n",
      "17\n",
      "Fizz\n",
      "19\n",
      "Buzz\n",
      "Fizz\n",
      "22\n",
      "23\n",
      "Fizz\n",
      "Buzz\n",
      "26\n",
      "Fizz\n",
      "28\n",
      "29\n",
      "FizzBuzz\n",
      "31\n",
      "32\n",
      "Fizz\n",
      "34\n",
      "Buzz\n",
      "Fizz\n",
      "37\n",
      "38\n",
      "Fizz\n",
      "Buzz\n",
      "41\n",
      "Fizz\n",
      "43\n",
      "44\n",
      "FizzBuzz\n",
      "46\n",
      "47\n",
      "Fizz\n",
      "49\n",
      "Buzz\n",
      "Fizz\n",
      "52\n",
      "53\n",
      "Fizz\n",
      "Buzz\n",
      "56\n",
      "Fizz\n",
      "58\n",
      "59\n",
      "FizzBuzz\n",
      "61\n",
      "62\n",
      "Fizz\n",
      "64\n",
      "Buzz\n",
      "Fizz\n",
      "67\n",
      "68\n",
      "Fizz\n",
      "Buzz\n",
      "71\n",
      "Fizz\n",
      "73\n",
      "74\n",
      "FizzBuzz\n",
      "76\n",
      "77\n",
      "Fizz\n",
      "79\n",
      "Buzz\n",
      "Fizz\n",
      "82\n",
      "83\n",
      "Fizz\n",
      "Buzz\n",
      "86\n",
      "Fizz\n",
      "88\n",
      "89\n",
      "FizzBuzz\n",
      "91\n",
      "92\n",
      "Fizz\n",
      "94\n",
      "Buzz\n",
      "Fizz\n",
      "97\n",
      "98\n",
      "Fizz\n",
      "Buzz\n"
     ]
    }
   ],
   "source": [
    "for i in range(1,101):\n",
    "    if i%15 == 0:\n",
    "        print(\"FizzBuzz\")\n",
    "    elif i%5 == 0:\n",
    "        print(\"Buzz\")\n",
    "    elif i%3 == 0:\n",
    "        print(\"Fizz\")\n",
    "    else:\n",
    "        print(i)"
   ]
  },
  {
   "cell_type": "markdown",
   "id": "42943a70-2349-4290-ac41-a5c1a5cc2ff0",
   "metadata": {},
   "source": [
    "### 6. Write a program that accepts a sentence and calculate the number of letters and digits. Suppose the following input is supplied to the program."
   ]
  },
  {
   "cell_type": "code",
   "execution_count": 21,
   "id": "e6968925",
   "metadata": {},
   "outputs": [
    {
     "name": "stdout",
     "output_type": "stream",
     "text": [
      "Enter a string : Hello world times 345\n",
      "The number of digits are 3 and the number of letters are 15\n"
     ]
    }
   ],
   "source": [
    "s = input(\"Enter a string : \")\n",
    "d = 0\n",
    "a = 0\n",
    "for i in s :\n",
    "    if i in digit :\n",
    "        d+=1\n",
    "        continue\n",
    "    if (i in lower) or (i in upper):\n",
    "        a +=1\n",
    "print(f\"The number of digits are {d} and the number of letters are {a}\")"
   ]
  },
  {
   "cell_type": "markdown",
   "id": "ee9e1ad1-842c-4fff-9ee2-55e24eb24701",
   "metadata": {},
   "source": [
    "### 7. Exercise: Write a program which takes 2 digits, X,Y as input and generates a 2-dimensional array. The element value in the i-th row and j-th column of the array should be i*j\n",
    "\n",
    "[[0, 0, 0, 0, 0],\n",
    " [0, 1, 2, 3, 4],\n",
    " [0, 2, 4, 6, 8]\n",
    " ..............]]"
   ]
  },
  {
   "cell_type": "code",
   "execution_count": 35,
   "id": "cef3d204",
   "metadata": {},
   "outputs": [
    {
     "name": "stdout",
     "output_type": "stream",
     "text": [
      "Enter the value of X : 4\n",
      "Enter the value of Y : 3\n"
     ]
    }
   ],
   "source": [
    "i = int(input(\"Enter the value of X : \"))\n",
    "j = int(input(\"Enter the value of Y : \"))\n",
    "arr = [[0 for _ in range(i)] for k in range(j)]"
   ]
  },
  {
   "cell_type": "code",
   "execution_count": 36,
   "id": "0b3cb4d2",
   "metadata": {},
   "outputs": [
    {
     "data": {
      "text/plain": [
       "[[0, 0, 0, 0], [0, 1, 2, 3], [0, 2, 4, 6]]"
      ]
     },
     "execution_count": 36,
     "metadata": {},
     "output_type": "execute_result"
    }
   ],
   "source": [
    "for x in range(len(arr)):\n",
    "    for y in range(len(arr[0])):\n",
    "        arr[x][y] = x*y\n",
    "arr"
   ]
  },
  {
   "cell_type": "markdown",
   "id": "f1efcf4a-bc10-4189-8228-3270b0cf1483",
   "metadata": {},
   "source": [
    "## 8. For this challenge,\n",
    "Create a bank account class that has two attributes:\n",
    "\n",
    "owner balance and two methods:\n",
    "\n",
    "deposit withdraw As an added requirement, withdrawals may not exceed the available balance.\n",
    "\n",
    "Instantiate your class, make several deposits and withdrawals, and test to make sure the account can't be overdrawn."
   ]
  },
  {
   "cell_type": "code",
   "execution_count": 38,
   "id": "0411a7f7",
   "metadata": {},
   "outputs": [],
   "source": [
    "class acc:\n",
    "    def __init__(self,owner,bal):\n",
    "        self.owner=owner\n",
    "        self.bal = bal\n",
    "    def deposite(self,amount):\n",
    "        self.bal = self.bal + amount\n",
    "    def withdraw(self,amount):\n",
    "        if self.bal<amount:\n",
    "            print(\"The amount requested is higher than what exist in the account\")\n",
    "            return\n",
    "        self.bal -= amount\n"
   ]
  },
  {
   "cell_type": "code",
   "execution_count": 39,
   "id": "322c72e5",
   "metadata": {},
   "outputs": [],
   "source": [
    "trial = acc(\"Bhanu\",1000)"
   ]
  },
  {
   "cell_type": "code",
   "execution_count": 40,
   "id": "b105d02a",
   "metadata": {},
   "outputs": [
    {
     "name": "stdout",
     "output_type": "stream",
     "text": [
      "Bhanu\n",
      "1000\n"
     ]
    }
   ],
   "source": [
    "print(trial.owner)\n",
    "print(trial.bal)"
   ]
  },
  {
   "cell_type": "code",
   "execution_count": 41,
   "id": "47a28dbc",
   "metadata": {},
   "outputs": [
    {
     "name": "stdout",
     "output_type": "stream",
     "text": [
      "2000\n"
     ]
    }
   ],
   "source": [
    "trial.deposite(1000)\n",
    "print(trial.bal)"
   ]
  },
  {
   "cell_type": "code",
   "execution_count": 42,
   "id": "5cd832f2",
   "metadata": {},
   "outputs": [
    {
     "name": "stdout",
     "output_type": "stream",
     "text": [
      "500\n"
     ]
    }
   ],
   "source": [
    "trial.withdraw(1500)\n",
    "print(trial.bal)"
   ]
  },
  {
   "cell_type": "code",
   "execution_count": 43,
   "id": "b248fd3d",
   "metadata": {},
   "outputs": [
    {
     "name": "stdout",
     "output_type": "stream",
     "text": [
      "The amount requested is higher than what exist in the account\n"
     ]
    }
   ],
   "source": [
    "trial.withdraw(1500)"
   ]
  },
  {
   "cell_type": "code",
   "execution_count": null,
   "id": "2b898a2f",
   "metadata": {},
   "outputs": [],
   "source": []
  }
 ],
 "metadata": {
  "kernelspec": {
   "display_name": "Python 3 (ipykernel)",
   "language": "python",
   "name": "python3"
  },
  "language_info": {
   "codemirror_mode": {
    "name": "ipython",
    "version": 3
   },
   "file_extension": ".py",
   "mimetype": "text/x-python",
   "name": "python",
   "nbconvert_exporter": "python",
   "pygments_lexer": "ipython3",
   "version": "3.9.13"
  }
 },
 "nbformat": 4,
 "nbformat_minor": 5
}
