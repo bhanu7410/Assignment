{
 "cells": [
  {
   "cell_type": "markdown",
   "id": "05b90243",
   "metadata": {},
   "source": [
    "1.\tCreate a python program to find duplicate files by content. User will input path and it will scan all directories, sub-directories to find all duplicates files.Delete the found duplicate file.\n"
   ]
  },
  {
   "cell_type": "code",
   "execution_count": 199,
   "id": "a32fd5a6",
   "metadata": {},
   "outputs": [],
   "source": [
    "import hashlib\n",
    "import os"
   ]
  },
  {
   "cell_type": "code",
   "execution_count": 226,
   "id": "32783f4d",
   "metadata": {},
   "outputs": [
    {
     "name": "stdout",
     "output_type": "stream",
     "text": [
      "Enter path of the first file: C:\\Users\\balapati\\Downloads\n"
     ]
    }
   ],
   "source": [
    "path = input(\"Enter path of the first file: \")\n",
    "dirList = os.listdir(path)"
   ]
  },
  {
   "cell_type": "code",
   "execution_count": 227,
   "id": "401e8c83",
   "metadata": {},
   "outputs": [],
   "source": [
    "hashList = []\n",
    "duplicate = []\n",
    "pathDirDict = {path : dirList}"
   ]
  },
  {
   "cell_type": "code",
   "execution_count": 228,
   "id": "6e0e65e0",
   "metadata": {},
   "outputs": [],
   "source": [
    "for i in dirList:\n",
    "    if '.' not in i:\n",
    "        pathDirDict[path + '\\\\' + i] = os.listdir(path + '\\\\' + i)"
   ]
  },
  {
   "cell_type": "code",
   "execution_count": 229,
   "id": "6c1e8678",
   "metadata": {},
   "outputs": [
    {
     "data": {
      "text/plain": [
       "True"
      ]
     },
     "execution_count": 229,
     "metadata": {},
     "output_type": "execute_result"
    }
   ],
   "source": [
    "'GGG.txt' in pathDirDict['C:\\\\Users\\\\balapati\\\\Downloads\\\\Assignment']"
   ]
  },
  {
   "cell_type": "code",
   "execution_count": 230,
   "id": "db7223da",
   "metadata": {},
   "outputs": [
    {
     "data": {
      "text/plain": [
       "['.ipynb_checkpoints',\n",
       " '2March Pandas TEK.ipynb',\n",
       " '2March Python TEK - File Handling & Errors Execptions.ipynb',\n",
       " '2_March_assignment_II.docx',\n",
       " '3 March SQL-TEK.docx.pdf',\n",
       " '89b03992-c37c-4e7e-a3bd-439f96e76f4e.JPG',\n",
       " 'A-8PP.jpg',\n",
       " 'Assignment',\n",
       " 'Assignment 1 - Bhanu Prabhath Alapati - Group 1 .ipynb',\n",
       " 'Assignment 2.ipynb',\n",
       " 'Automobile_price_data__Raw_.csv',\n",
       " 'banking.csv',\n",
       " 'Day Wise Plan - Data Engineering.xlsx',\n",
       " 'desktop.ini',\n",
       " 'FW List of Software and Whitelisting.msg',\n",
       " 'GGG.txt',\n",
       " 'IMG-5867.jpg',\n",
       " 'IMG-5868.jpg',\n",
       " 'IMG-5933.jpg',\n",
       " 'IMG-5934.jpg',\n",
       " 'MSTeamsSetup_c_l_.exe',\n",
       " 'Python TEK day 5 and day 6.ipynb',\n",
       " 'Python TEK day 6 (1).ipynb',\n",
       " 'Python TEK day 6.ipynb',\n",
       " 'Review 2.pdf',\n",
       " 'Tek test.ipynb',\n",
       " 'TEK Training Day 3.ipynb',\n",
       " 'Training',\n",
       " 'tri.jpg',\n",
       " 'Untitled.ipynb',\n",
       " 'Vamsi Dhananjay - Group 2.ipynb',\n",
       " 'w3af.mo',\n",
       " 'Weekly Schedule .png',\n",
       " '~$Day Wise Plan - Data Engineering.xlsx']"
      ]
     },
     "execution_count": 230,
     "metadata": {},
     "output_type": "execute_result"
    }
   ],
   "source": [
    "pathDirDict['C:\\\\Users\\\\balapati\\\\Downloads']"
   ]
  },
  {
   "cell_type": "code",
   "execution_count": 231,
   "id": "3460c4ea",
   "metadata": {},
   "outputs": [],
   "source": [
    "for i in pathDirDict:\n",
    "    for j in pathDirDict[i]:\n",
    "        if '.txt' in j:\n",
    "            fileObj = open(i + '\\\\' + j)\n",
    "            str1 = fileObj.read().encode()\n",
    "            hash1 = hashlib.sha256(str1)\n",
    "            if hash1.hexdigest() in hashList:\n",
    "                duplicate.append(i + '\\\\' + j)\n",
    "            else:\n",
    "                hashList.append(hash1.hexdigest())\n",
    "            fileObj.close()"
   ]
  },
  {
   "cell_type": "code",
   "execution_count": 235,
   "id": "52215275",
   "metadata": {},
   "outputs": [
    {
     "name": "stdout",
     "output_type": "stream",
     "text": [
      "None\n"
     ]
    }
   ],
   "source": [
    "for path in duplicate:\n",
    "    print(os.remove(path, dir_fd=None))"
   ]
  },
  {
   "cell_type": "markdown",
   "id": "3deba6b3",
   "metadata": {},
   "source": [
    " 2.\tGenerate random Password with exact length = 6, with minimum 1 uppercase, 2 lowercase, 2 digits, and remaining special characters.Using these packages [random, strings]\n"
   ]
  },
  {
   "cell_type": "code",
   "execution_count": 1,
   "id": "f7239040",
   "metadata": {},
   "outputs": [],
   "source": [
    "import string\n",
    "import random"
   ]
  },
  {
   "cell_type": "code",
   "execution_count": 33,
   "id": "209e5dea",
   "metadata": {},
   "outputs": [
    {
     "data": {
      "text/plain": [
       "'w3V(5v'"
      ]
     },
     "execution_count": 33,
     "metadata": {},
     "output_type": "execute_result"
    }
   ],
   "source": [
    "upper = string.ascii_uppercase\n",
    "lower = string.ascii_lowercase\n",
    "digit = string.digits\n",
    "speci = string.punctuation\n",
    "\n",
    "up_ch = random.choice(upper)\n",
    "lw_ch = [random.choice(lower) for _ in range(2)]\n",
    "di_ch = [random.choice(digit) for _ in range(2)]\n",
    "sp_ch = random.choice(speci)\n",
    "\n",
    "all_ch = [up_ch,sp_ch]+lw_ch+di_ch\n",
    "random.shuffle(all_ch)\n",
    "all_ch=''.join(all_ch)\n",
    "all_ch"
   ]
  },
  {
   "cell_type": "markdown",
   "id": "b613c9da",
   "metadata": {},
   "source": [
    "3.\tCreate 2D array and update the same 2D array provided that every prime number position should be replaced by cube of the positioned number."
   ]
  },
  {
   "cell_type": "code",
   "execution_count": 69,
   "id": "f4ab5068",
   "metadata": {},
   "outputs": [],
   "source": [
    "import numpy as np"
   ]
  },
  {
   "cell_type": "code",
   "execution_count": 73,
   "id": "7a33ab5f",
   "metadata": {},
   "outputs": [
    {
     "name": "stdout",
     "output_type": "stream",
     "text": [
      "number of rows : 7\n",
      "number of columns : 9\n"
     ]
    }
   ],
   "source": [
    "x = int(input(\"number of rows : \"))\n",
    "y = int(input(\"number of columns : \"))"
   ]
  },
  {
   "cell_type": "code",
   "execution_count": 236,
   "id": "5c44120a",
   "metadata": {},
   "outputs": [],
   "source": [
    "stk = [i for i in range(1,x*y+1)]\n",
    "prim = []"
   ]
  },
  {
   "cell_type": "code",
   "execution_count": 237,
   "id": "3771f655",
   "metadata": {},
   "outputs": [],
   "source": [
    "for number in range (1,x*y+1):  \n",
    "    cod =1\n",
    "    if number > 1:  \n",
    "        for i in range (2, int(number**(1/2))+1):  \n",
    "            if (number % i) == 0: \n",
    "                cod =0\n",
    "                break  \n",
    "        if cod != 0:  \n",
    "            prim.append(number-1)\n",
    "            stk[number-1]=stk[number-1]**3"
   ]
  },
  {
   "cell_type": "code",
   "execution_count": 238,
   "id": "c21aee78",
   "metadata": {},
   "outputs": [],
   "source": [
    "stk = np.array(stk)\n",
    "stk = stk.reshape((x,y))"
   ]
  },
  {
   "cell_type": "code",
   "execution_count": 239,
   "id": "b970db14",
   "metadata": {},
   "outputs": [
    {
     "data": {
      "text/plain": [
       "[[1, 8, 27, 4, 125, 6, 343, 8, 9],\n",
       " [10, 1331, 12, 2197, 14, 15, 16, 4913, 18],\n",
       " [6859, 20, 21, 22, 12167, 24, 25, 26, 27],\n",
       " [28, 24389, 30, 29791, 32, 33, 34, 35, 36],\n",
       " [50653, 38, 39, 40, 68921, 42, 79507, 44, 45],\n",
       " [46, 103823, 48, 49, 50, 51, 52, 148877, 54],\n",
       " [55, 56, 57, 58, 205379, 60, 226981, 62, 63]]"
      ]
     },
     "execution_count": 239,
     "metadata": {},
     "output_type": "execute_result"
    }
   ],
   "source": [
    "stk = stk.tolist()\n",
    "stk"
   ]
  },
  {
   "cell_type": "markdown",
   "id": "4b572a3f",
   "metadata": {},
   "source": [
    "4.\tPython program to get the sum of every cubed value and its previous integer. \n"
   ]
  },
  {
   "cell_type": "code",
   "execution_count": 173,
   "id": "984b63bd",
   "metadata": {},
   "outputs": [],
   "source": [
    "stk = np.array(stk)\n",
    "stk = stk.flatten()\n",
    "stk = stk.tolist()\n",
    "stk_copy = stk.copy()\n",
    "for i in prim:\n",
    "    stk[i] = stk_copy[i-1]+ stk_copy[i]"
   ]
  },
  {
   "cell_type": "code",
   "execution_count": 174,
   "id": "9ff65165",
   "metadata": {},
   "outputs": [
    {
     "name": "stdout",
     "output_type": "stream",
     "text": [
      "[1, 9, 35, 4, 129, 6, 349, 8, 9, 10, 1341, 12, 2209, 14, 15, 16, 4929, 18, 6877, 20, 21, 22, 12189, 24, 25, 26, 27, 28, 24417, 30, 29821, 32, 33, 34, 35, 36, 50689, 38, 39, 40, 68961, 42, 79549, 44, 45, 46, 103869, 48, 49, 50, 51, 52, 148929, 54, 55, 56, 57, 58, 205437, 60, 227041, 62, 63]\n"
     ]
    }
   ],
   "source": [
    "print(stk)"
   ]
  },
  {
   "cell_type": "markdown",
   "id": "cf600b46",
   "metadata": {},
   "source": [
    "5.\tGiven two arrays, find their intersection. Examples: Input:  \n",
    "    - arr1[] = [1, 3, 4, 5, 7]\n",
    "    - arr2[] = [2, 3, 5, 6]\n"
   ]
  },
  {
   "cell_type": "code",
   "execution_count": 81,
   "id": "a19b88eb",
   "metadata": {},
   "outputs": [
    {
     "name": "stdout",
     "output_type": "stream",
     "text": [
      "[3, 5]\n"
     ]
    }
   ],
   "source": [
    "arr1 = [1, 3, 4, 5, 7]\n",
    "arr2 = [2, 3, 5, 6]\n",
    "inter = list(set(arr1)&set(arr2))\n",
    "print(inter)"
   ]
  },
  {
   "cell_type": "markdown",
   "id": "630cb78a",
   "metadata": {},
   "source": [
    "6.\tCreate a 7 x 7  2D array having only multiples of 7. And return the last element of the same."
   ]
  },
  {
   "cell_type": "code",
   "execution_count": 124,
   "id": "241a9149",
   "metadata": {},
   "outputs": [
    {
     "data": {
      "text/plain": [
       "343"
      ]
     },
     "execution_count": 124,
     "metadata": {},
     "output_type": "execute_result"
    }
   ],
   "source": [
    "stk = [7*(i+1) for i in range(7*7)]\n",
    "stk = np.array(stk)\n",
    "stk = stk.reshape((7,7))\n",
    "stk[6][6]"
   ]
  },
  {
   "cell_type": "markdown",
   "id": "f966badc",
   "metadata": {},
   "source": [
    "7.\tChecker Board Patten using Numpy:\n",
    "[   1   0   1   0   1   0   1\n",
    "    0   1   0   1   0   1   0\n",
    "    1   0   1   0   1   0   1\n",
    "    0   1   0   1   0   1   0\n",
    "    1   0   1   0   1   0   1  ]\n"
   ]
  },
  {
   "cell_type": "code",
   "execution_count": 131,
   "id": "5a913bb2",
   "metadata": {},
   "outputs": [
    {
     "name": "stdout",
     "output_type": "stream",
     "text": [
      "Enter the side value : 5\n",
      "0 1 0 1 0 \n",
      "1 0 1 0 1 \n",
      "0 1 0 1 0 \n",
      "1 0 1 0 1 \n",
      "0 1 0 1 0 \n"
     ]
    }
   ],
   "source": [
    "def printcheckboard(n):\n",
    "    x = np.zeros((n, n), dtype = int)\n",
    "    x[1::2, ::2] = 1\n",
    "    x[::2, 1::2] = 1\n",
    "    for i in range(n):\n",
    "        for j in range(n):\n",
    "            print(x[i][j], end =\" \")\n",
    "        print()\n",
    "\n",
    "n = int(input('Enter the side value : '))\n",
    "printcheckboard(n)"
   ]
  },
  {
   "cell_type": "markdown",
   "id": "14ad9bf3",
   "metadata": {},
   "source": [
    "8.\tCreate a given Matrix:\n",
    "[  [A,     B,     C,       D],\n",
    "   [E,      F,     G,       H],\n",
    "    [I,      J,      K,       L],\n",
    "   [M,    N,     o,       P],\n",
    "   [Q,     R,      S,       T],\n",
    "   [U,     0,     W,      O ]]\n",
    "\n",
    "Replace all the vowels by np.nan\n",
    "A, E, I, O U  -- >  np.nan\n",
    "Return the count of the missing values\n"
   ]
  },
  {
   "cell_type": "code",
   "execution_count": 128,
   "id": "32b09a02",
   "metadata": {},
   "outputs": [],
   "source": [
    "alpha =  [ ['A', 'B', 'C', 'D'], ['E', 'F', 'G', 'H'], ['I', 'J', 'K', 'L'], ['M', 'N','O', 'P'], ['Q', 'R', 'S', 'T'], ['U', 'V', 'W', 'O' ]]"
   ]
  },
  {
   "cell_type": "code",
   "execution_count": 129,
   "id": "4e203b4f",
   "metadata": {},
   "outputs": [
    {
     "data": {
      "text/plain": [
       "nan"
      ]
     },
     "execution_count": 129,
     "metadata": {},
     "output_type": "execute_result"
    }
   ],
   "source": [
    "np.nan"
   ]
  },
  {
   "cell_type": "code",
   "execution_count": 130,
   "id": "1756e695",
   "metadata": {},
   "outputs": [
    {
     "data": {
      "text/plain": [
       "[[nan, 'B', 'C', 'D'],\n",
       " [nan, 'F', 'G', 'H'],\n",
       " [nan, 'J', 'K', 'L'],\n",
       " ['M', 'N', nan, 'P'],\n",
       " ['Q', 'R', 'S', 'T'],\n",
       " [nan, 'V', 'W', nan]]"
      ]
     },
     "execution_count": 130,
     "metadata": {},
     "output_type": "execute_result"
    }
   ],
   "source": [
    "for i in range(len(alpha)):\n",
    "    for j in range(len(alpha[0])):\n",
    "        if alpha[i][j] in ['A','E','I','O','U']:\n",
    "            alpha[i][j]= np.nan\n",
    "alpha"
   ]
  },
  {
   "cell_type": "code",
   "execution_count": null,
   "id": "101e2023",
   "metadata": {},
   "outputs": [],
   "source": []
  },
  {
   "cell_type": "code",
   "execution_count": null,
   "id": "7022c0eb",
   "metadata": {},
   "outputs": [],
   "source": []
  }
 ],
 "metadata": {
  "kernelspec": {
   "display_name": "Python 3 (ipykernel)",
   "language": "python",
   "name": "python3"
  },
  "language_info": {
   "codemirror_mode": {
    "name": "ipython",
    "version": 3
   },
   "file_extension": ".py",
   "mimetype": "text/x-python",
   "name": "python",
   "nbconvert_exporter": "python",
   "pygments_lexer": "ipython3",
   "version": "3.9.13"
  }
 },
 "nbformat": 4,
 "nbformat_minor": 5
}
